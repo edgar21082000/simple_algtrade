{
 "cells": [
  {
   "cell_type": "code",
   "execution_count": 1,
   "source": [
    "import datetime\n",
    "import matplotlib.pyplot as plt\n",
    "import numpy as np\n",
    "import pandas as pd\n",
    "import pandas_datareader as pdr"
   ],
   "outputs": [],
   "metadata": {}
  },
  {
   "cell_type": "code",
   "execution_count": 2,
   "source": [
    "from my_momentum import *"
   ],
   "outputs": [],
   "metadata": {}
  },
  {
   "cell_type": "code",
   "execution_count": 3,
   "source": [
    "ethusd_train = pdr.get_data_yahoo('ETH-USD', \n",
    "        start=datetime.datetime(2016, 1, 1), \n",
    "        end=datetime.datetime(2018, 12, 31))"
   ],
   "outputs": [],
   "metadata": {}
  },
  {
   "cell_type": "code",
   "execution_count": 4,
   "source": [
    "ethusd_test = pdr.get_data_yahoo('ETH-USD', \n",
    "        start=datetime.datetime(2019, 1, 1), \n",
    "        end=datetime.datetime(2020, 12, 31))"
   ],
   "outputs": [],
   "metadata": {}
  },
  {
   "cell_type": "code",
   "execution_count": 6,
   "source": [
    "ethusd_final = pdr.get_data_yahoo('ETH-USD', \n",
    "        start=datetime.datetime(2021, 1, 1), \n",
    "        end=datetime.datetime(2021, 8, 13))"
   ],
   "outputs": [],
   "metadata": {}
  },
  {
   "cell_type": "code",
   "execution_count": 7,
   "source": [
    "ethusd_final"
   ],
   "outputs": [
    {
     "output_type": "execute_result",
     "data": {
      "text/plain": [
       "                   High          Low         Open        Close       Volume  \\\n",
       "Date                                                                          \n",
       "2021-01-01   749.201843   719.792236   737.708374   730.367554  13652004358   \n",
       "2021-01-02   786.798462   718.109497   730.402649   774.534973  19740771179   \n",
       "2021-01-03  1006.565002   771.561646   774.511841   975.507690  45200463368   \n",
       "2021-01-04  1153.189209   912.305359   977.058838  1040.233032  56945985763   \n",
       "2021-01-05  1129.371460   986.811279  1041.498779  1100.006104  41535932781   \n",
       "...                 ...          ...          ...          ...          ...   \n",
       "2021-08-09  3228.940674  3059.229004  3163.050049  3141.691162  27605221710   \n",
       "2021-08-10  3269.209473  3122.916504  3142.830322  3164.245117  26729035052   \n",
       "2021-08-11  3236.314697  2984.166992  3164.175781  3043.414307  25403699845   \n",
       "2021-08-12  3324.671631  3037.676025  3049.001221  3322.211670  23868866254   \n",
       "2021-08-13  3329.281006  3214.519775  3322.762695  3265.443359  19860862133   \n",
       "\n",
       "              Adj Close  \n",
       "Date                     \n",
       "2021-01-01   730.367554  \n",
       "2021-01-02   774.534973  \n",
       "2021-01-03   975.507690  \n",
       "2021-01-04  1040.233032  \n",
       "2021-01-05  1100.006104  \n",
       "...                 ...  \n",
       "2021-08-09  3141.691162  \n",
       "2021-08-10  3164.245117  \n",
       "2021-08-11  3043.414307  \n",
       "2021-08-12  3322.211670  \n",
       "2021-08-13  3265.443359  \n",
       "\n",
       "[226 rows x 6 columns]"
      ],
      "text/html": [
       "<div>\n",
       "<style scoped>\n",
       "    .dataframe tbody tr th:only-of-type {\n",
       "        vertical-align: middle;\n",
       "    }\n",
       "\n",
       "    .dataframe tbody tr th {\n",
       "        vertical-align: top;\n",
       "    }\n",
       "\n",
       "    .dataframe thead th {\n",
       "        text-align: right;\n",
       "    }\n",
       "</style>\n",
       "<table border=\"1\" class=\"dataframe\">\n",
       "  <thead>\n",
       "    <tr style=\"text-align: right;\">\n",
       "      <th></th>\n",
       "      <th>High</th>\n",
       "      <th>Low</th>\n",
       "      <th>Open</th>\n",
       "      <th>Close</th>\n",
       "      <th>Volume</th>\n",
       "      <th>Adj Close</th>\n",
       "    </tr>\n",
       "    <tr>\n",
       "      <th>Date</th>\n",
       "      <th></th>\n",
       "      <th></th>\n",
       "      <th></th>\n",
       "      <th></th>\n",
       "      <th></th>\n",
       "      <th></th>\n",
       "    </tr>\n",
       "  </thead>\n",
       "  <tbody>\n",
       "    <tr>\n",
       "      <th>2021-01-01</th>\n",
       "      <td>749.201843</td>\n",
       "      <td>719.792236</td>\n",
       "      <td>737.708374</td>\n",
       "      <td>730.367554</td>\n",
       "      <td>13652004358</td>\n",
       "      <td>730.367554</td>\n",
       "    </tr>\n",
       "    <tr>\n",
       "      <th>2021-01-02</th>\n",
       "      <td>786.798462</td>\n",
       "      <td>718.109497</td>\n",
       "      <td>730.402649</td>\n",
       "      <td>774.534973</td>\n",
       "      <td>19740771179</td>\n",
       "      <td>774.534973</td>\n",
       "    </tr>\n",
       "    <tr>\n",
       "      <th>2021-01-03</th>\n",
       "      <td>1006.565002</td>\n",
       "      <td>771.561646</td>\n",
       "      <td>774.511841</td>\n",
       "      <td>975.507690</td>\n",
       "      <td>45200463368</td>\n",
       "      <td>975.507690</td>\n",
       "    </tr>\n",
       "    <tr>\n",
       "      <th>2021-01-04</th>\n",
       "      <td>1153.189209</td>\n",
       "      <td>912.305359</td>\n",
       "      <td>977.058838</td>\n",
       "      <td>1040.233032</td>\n",
       "      <td>56945985763</td>\n",
       "      <td>1040.233032</td>\n",
       "    </tr>\n",
       "    <tr>\n",
       "      <th>2021-01-05</th>\n",
       "      <td>1129.371460</td>\n",
       "      <td>986.811279</td>\n",
       "      <td>1041.498779</td>\n",
       "      <td>1100.006104</td>\n",
       "      <td>41535932781</td>\n",
       "      <td>1100.006104</td>\n",
       "    </tr>\n",
       "    <tr>\n",
       "      <th>...</th>\n",
       "      <td>...</td>\n",
       "      <td>...</td>\n",
       "      <td>...</td>\n",
       "      <td>...</td>\n",
       "      <td>...</td>\n",
       "      <td>...</td>\n",
       "    </tr>\n",
       "    <tr>\n",
       "      <th>2021-08-09</th>\n",
       "      <td>3228.940674</td>\n",
       "      <td>3059.229004</td>\n",
       "      <td>3163.050049</td>\n",
       "      <td>3141.691162</td>\n",
       "      <td>27605221710</td>\n",
       "      <td>3141.691162</td>\n",
       "    </tr>\n",
       "    <tr>\n",
       "      <th>2021-08-10</th>\n",
       "      <td>3269.209473</td>\n",
       "      <td>3122.916504</td>\n",
       "      <td>3142.830322</td>\n",
       "      <td>3164.245117</td>\n",
       "      <td>26729035052</td>\n",
       "      <td>3164.245117</td>\n",
       "    </tr>\n",
       "    <tr>\n",
       "      <th>2021-08-11</th>\n",
       "      <td>3236.314697</td>\n",
       "      <td>2984.166992</td>\n",
       "      <td>3164.175781</td>\n",
       "      <td>3043.414307</td>\n",
       "      <td>25403699845</td>\n",
       "      <td>3043.414307</td>\n",
       "    </tr>\n",
       "    <tr>\n",
       "      <th>2021-08-12</th>\n",
       "      <td>3324.671631</td>\n",
       "      <td>3037.676025</td>\n",
       "      <td>3049.001221</td>\n",
       "      <td>3322.211670</td>\n",
       "      <td>23868866254</td>\n",
       "      <td>3322.211670</td>\n",
       "    </tr>\n",
       "    <tr>\n",
       "      <th>2021-08-13</th>\n",
       "      <td>3329.281006</td>\n",
       "      <td>3214.519775</td>\n",
       "      <td>3322.762695</td>\n",
       "      <td>3265.443359</td>\n",
       "      <td>19860862133</td>\n",
       "      <td>3265.443359</td>\n",
       "    </tr>\n",
       "  </tbody>\n",
       "</table>\n",
       "<p>226 rows × 6 columns</p>\n",
       "</div>"
      ]
     },
     "metadata": {},
     "execution_count": 7
    }
   ],
   "metadata": {}
  },
  {
   "cell_type": "code",
   "execution_count": 22,
   "source": [
    "ethusd_train['Diff'] = ethusd_train['Close'] - ethusd_train['Open']\n",
    "ethusd_test['Diff'] = ethusd_test['Close'] - ethusd_test['Open']\n",
    "ethusd_final['Diff'] = ethusd_final['Close'] - ethusd_final['Open']\n"
   ],
   "outputs": [],
   "metadata": {}
  },
  {
   "cell_type": "code",
   "execution_count": 23,
   "source": [
    "data_train = ethusd_train.values\n",
    "data_test = ethusd_test.values\n",
    "data_final = ethusd_final.values\n",
    "\n",
    "balance = 1000"
   ],
   "outputs": [],
   "metadata": {}
  },
  {
   "cell_type": "code",
   "execution_count": 24,
   "source": [
    "k1, k2, ds = koef_validation(data_train, balance)"
   ],
   "outputs": [],
   "metadata": {}
  },
  {
   "cell_type": "code",
   "execution_count": 25,
   "source": [
    "result = momentum(data_test, balance, k1, k2, ds)"
   ],
   "outputs": [],
   "metadata": {}
  },
  {
   "cell_type": "code",
   "execution_count": 26,
   "source": [
    "print(k1, k2, ds)\n",
    "result"
   ],
   "outputs": [
    {
     "output_type": "stream",
     "name": "stdout",
     "text": [
      "99 78 9\n"
     ]
    },
    {
     "output_type": "execute_result",
     "data": {
      "text/plain": [
       "4632.638829434778"
      ]
     },
     "metadata": {},
     "execution_count": 26
    }
   ],
   "metadata": {}
  },
  {
   "cell_type": "code",
   "execution_count": 27,
   "source": [
    "final = momentum(data_final, balance, k1, k2, ds)\n",
    "final"
   ],
   "outputs": [
    {
     "output_type": "execute_result",
     "data": {
      "text/plain": [
       "1823.7754820934967"
      ]
     },
     "metadata": {},
     "execution_count": 27
    }
   ],
   "metadata": {}
  }
 ],
 "metadata": {
  "interpreter": {
   "hash": "1c0719738036e47bd1c9e848a20f793f7317c0cdb3b46fbb049a94430a57c056"
  },
  "kernelspec": {
   "name": "python3",
   "display_name": "Python 3.8.10 64-bit ('edgar_cnd': conda)"
  },
  "language_info": {
   "codemirror_mode": {
    "name": "ipython",
    "version": 3
   },
   "file_extension": ".py",
   "mimetype": "text/x-python",
   "name": "python",
   "nbconvert_exporter": "python",
   "pygments_lexer": "ipython3",
   "version": "3.8.10"
  }
 },
 "nbformat": 4,
 "nbformat_minor": 5
}